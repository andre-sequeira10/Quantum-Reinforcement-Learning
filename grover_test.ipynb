{
 "cells": [
  {
   "cell_type": "code",
   "execution_count": 1,
   "metadata": {},
   "outputs": [],
   "source": [
    "from qiskit import QuantumCircuit,QuantumRegister,ClassicalRegister\n",
    "from qiskit import Aer,IBMQ\n",
    "from qiskit import execute\n",
    "from qiskit.tools import visualization\n",
    "from qiskit.tools.visualization import circuit_drawer, plot_histogram\n",
    "import matplotlib.pyplot as plt\n",
    "from executeCircuit import execute_locally,extractClassical\n",
    "from qOracles import searchOracle\n",
    "from qiskit.aqua.components.oracles import Oracle\n",
    "from qiskit.aqua.components.initial_states import Custom\n",
    "from qiskit.aqua.algorithms import Grover\n",
    "import math \n",
    "import numpy as np"
   ]
  },
  {
   "cell_type": "code",
   "execution_count": 2,
   "metadata": {},
   "outputs": [],
   "source": [
    "n=4\n",
    "index = 4\n",
    "iterations = math.ceil(math.sqrt(2))"
   ]
  },
  {
   "cell_type": "code",
   "execution_count": 3,
   "metadata": {},
   "outputs": [
    {
     "data": {
      "text/plain": [
       "<qiskit.circuit.instructionset.InstructionSet at 0x7f5c463837d0>"
      ]
     },
     "execution_count": 3,
     "metadata": {},
     "output_type": "execute_result"
    }
   ],
   "source": [
    "qstate = QuantumRegister(n)\n",
    "out = QuantumRegister(1)\n",
    "qaux = QuantumRegister(n)\n",
    "\n",
    "qc = QuantumCircuit(qstate,out)\n",
    "qc.h(qstate)"
   ]
  },
  {
   "cell_type": "code",
   "execution_count": 4,
   "metadata": {},
   "outputs": [],
   "source": [
    "backend = Aer.get_backend('statevector_simulator')\n"
   ]
  },
  {
   "cell_type": "code",
   "execution_count": 5,
   "metadata": {},
   "outputs": [],
   "source": [
    "statevector = execute(qc, backend=backend,shots=1024).result().get_statevector()"
   ]
  },
  {
   "cell_type": "code",
   "execution_count": 6,
   "metadata": {},
   "outputs": [
    {
     "name": "stdout",
     "output_type": "stream",
     "text": [
      "[0.25+0.j 0.25+0.j 0.25+0.j 0.25+0.j 0.25+0.j 0.25+0.j 0.25+0.j 0.25+0.j\n",
      " 0.25+0.j 0.25+0.j 0.25+0.j 0.25+0.j 0.25+0.j 0.25+0.j 0.25+0.j 0.25+0.j]\n",
      "[0.25+0.j 0.25+0.j 0.25+0.j 0.25+0.j 0.25+0.j 0.25+0.j 0.25+0.j 0.25+0.j\n",
      " 0.25+0.j 0.25+0.j 0.25+0.j 0.25+0.j 0.25+0.j 0.25+0.j 0.25+0.j 0.25+0.j\n",
      " 0.  +0.j 0.  +0.j 0.  +0.j 0.  +0.j 0.  +0.j 0.  +0.j 0.  +0.j 0.  +0.j\n",
      " 0.  +0.j 0.  +0.j 0.  +0.j 0.  +0.j 0.  +0.j 0.  +0.j 0.  +0.j 0.  +0.j]\n"
     ]
    }
   ],
   "source": [
    "stateV = np.asarray([statevector[i] for i in range(2**n)])\n",
    "print(stateV)\n",
    "print(statevector)"
   ]
  },
  {
   "cell_type": "code",
   "execution_count": 7,
   "metadata": {},
   "outputs": [
    {
     "name": "stdout",
     "output_type": "stream",
     "text": [
      "[0.        +0.j 0.        +0.j 0.70710678+0.j 0.        +0.j\n",
      " 0.70710678+0.j 0.        +0.j 0.        +0.j 0.        +0.j\n",
      " 0.        +0.j 0.        +0.j 0.        +0.j 0.        +0.j\n",
      " 0.        +0.j 0.        +0.j 0.        +0.j 0.        +0.j]\n"
     ]
    },
    {
     "data": {
      "image/png": "[encoded data removed]",
      "text/plain": [
       "<Figure size 227.556x325.08 with 1 Axes>"
      ]
     },
     "execution_count": 7,
     "metadata": {},
     "output_type": "execute_result"
    }
   ],
   "source": [
    "qc2 = QuantumCircuit(qstate,out,qaux)\n",
    "state=[]\n",
    "for i in range(2**n):\n",
    "\tif i == 4 or i == 2:\n",
    "\t\tstate.append(complex(1/math.sqrt(2),0.0))\n",
    "\telse:\n",
    "\t\tstate.append(complex(0.0,0.0))\n",
    "\n",
    "state_np = np.asarray(state)\n",
    "print(state_np)\n",
    "\n",
    "quantum_state = Custom(n,state_vector=state_np)\n",
    "#initial_state = Custom(n,state_vector= stateV)\n",
    "oracle = searchOracle(variable_register=qstate,index=index)\n",
    "alg = Grover(oracle,init_state=quantum_state, incremental=True)\n",
    "#incremental=True)\n",
    "qc.draw(output=\"mpl\")"
   ]
  },
  {
   "cell_type": "code",
   "execution_count": 8,
   "metadata": {},
   "outputs": [
    {
     "name": "stdout",
     "output_type": "stream",
     "text": [
      "ZERO -  0\n",
      "FIFT -  0\n"
     ]
    }
   ],
   "source": [
    "backend = Aer.get_backend('qasm_simulator')\n",
    "\n",
    "zero=0\n",
    "two=0\n",
    "for i in range(10):\n",
    "    result = alg.run(backend,shots=1024)\n",
    "    measured_val = int(result['top_measurement'],2 )\n",
    "    if measured_val == 2:\n",
    "        two+=1\n",
    "    elif measured_val == 0:\n",
    "        zero+=1\n",
    "\n",
    "print(\"ZERO - \",zero)    \n",
    "print(\"FIFT - \",two)\n",
    "\n",
    "#result = alg.run(backend,shots=1024)\n"
   ]
  },
  {
   "cell_type": "code",
   "execution_count": 9,
   "metadata": {},
   "outputs": [
    {
     "name": "stdout",
     "output_type": "stream",
     "text": [
      "result should be 15 -  4\n"
     ]
    }
   ],
   "source": [
    "measured_val = int(result['top_measurement'],2 )\n",
    "print(\"result should be 15 - \",measured_val)"
   ]
  },
  {
   "cell_type": "code",
   "execution_count": 10,
   "metadata": {},
   "outputs": [
    {
     "data": {
      "image/png": "[encoded data removed]",
      "text/plain": [
       "<Figure size 504x360 with 1 Axes>"
      ]
     },
     "execution_count": 10,
     "metadata": {},
     "output_type": "execute_result"
    }
   ],
   "source": [
    "plot_histogram(result['measurement'])\n"
   ]
  },
  {
   "cell_type": "code",
   "execution_count": null,
   "metadata": {},
   "outputs": [],
   "source": []
  }
 ],
 "metadata": {
  "file_extension": ".py",
  "kernelspec": {
   "display_name": "Python 3",
   "language": "python",
   "name": "python3"
  },
  "language_info": {
   "codemirror_mode": {
    "name": "ipython",
    "version": 3
   },
   "file_extension": ".py",
   "mimetype": "text/x-python",
   "name": "python",
   "nbconvert_exporter": "python",
   "pygments_lexer": "ipython3",
   "version": "3.7.6"
  },
  "mimetype": "text/x-python",
  "name": "python",
  "npconvert_exporter": "python",
  "pygments_lexer": "ipython3",
  "version": 3
 },
 "nbformat": 4,
 "nbformat_minor": 2
}
